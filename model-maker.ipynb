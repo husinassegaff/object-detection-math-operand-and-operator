{
 "cells": [
  {
   "cell_type": "code",
   "execution_count": 1,
   "metadata": {},
   "outputs": [],
   "source": [
    "import numpy as np\n",
    "import os\n",
    "\n",
    "from tflite_model_maker.config import QuantizationConfig\n",
    "from tflite_model_maker.config import ExportFormat\n",
    "from tflite_model_maker import model_spec\n",
    "from tflite_model_maker import object_detector\n",
    "\n",
    "import tensorflow as tf\n",
    "assert tf.__version__.startswith('2')\n",
    "\n",
    "tf.get_logger().setLevel('ERROR')\n",
    "from absl import logging\n",
    "logging.set_verbosity(logging.ERROR)"
   ]
  },
  {
   "cell_type": "code",
   "execution_count": 2,
   "metadata": {},
   "outputs": [],
   "source": [
    "spec = model_spec.get('efficientdet_lite3')"
   ]
  },
  {
   "cell_type": "code",
   "execution_count": 3,
   "metadata": {},
   "outputs": [],
   "source": [
    "train_data, validation_data, test_data = object_detector.DataLoader.from_csv('all-jpg.csv')"
   ]
  },
  {
   "cell_type": "code",
   "execution_count": 7,
   "metadata": {},
   "outputs": [
    {
     "name": "stdout",
     "output_type": "stream",
     "text": [
      "Epoch 1/15\n",
      "58/58 [==============================] - 720s 11s/step - det_loss: 1.7145 - cls_loss: 1.2078 - box_loss: 0.0101 - reg_l2_loss: 0.0961 - loss: 1.8106 - learning_rate: 0.0102 - gradient_norm: 1.0490 - val_det_loss: 1.6449 - val_cls_loss: 1.3892 - val_box_loss: 0.0051 - val_reg_l2_loss: 0.0961 - val_loss: 1.7410\n",
      "Epoch 2/15\n",
      "58/58 [==============================] - 633s 11s/step - det_loss: 1.2737 - cls_loss: 1.0176 - box_loss: 0.0051 - reg_l2_loss: 0.0962 - loss: 1.3698 - learning_rate: 0.0121 - gradient_norm: 1.8108 - val_det_loss: 1.6592 - val_cls_loss: 1.5511 - val_box_loss: 0.0022 - val_reg_l2_loss: 0.0962 - val_loss: 1.7554\n",
      "Epoch 3/15\n",
      "58/58 [==============================] - 631s 11s/step - det_loss: 1.0572 - cls_loss: 0.8430 - box_loss: 0.0043 - reg_l2_loss: 0.0962 - loss: 1.1533 - learning_rate: 0.0115 - gradient_norm: 2.0477 - val_det_loss: 1.4163 - val_cls_loss: 1.3254 - val_box_loss: 0.0018 - val_reg_l2_loss: 0.0962 - val_loss: 1.5125\n",
      "Epoch 4/15\n",
      "58/58 [==============================] - 625s 11s/step - det_loss: 0.9509 - cls_loss: 0.7622 - box_loss: 0.0038 - reg_l2_loss: 0.0962 - loss: 1.0471 - learning_rate: 0.0107 - gradient_norm: 1.9708 - val_det_loss: 1.4917 - val_cls_loss: 1.4109 - val_box_loss: 0.0016 - val_reg_l2_loss: 0.0962 - val_loss: 1.5879\n",
      "Epoch 5/15\n",
      "58/58 [==============================] - 696s 12s/step - det_loss: 0.8910 - cls_loss: 0.7015 - box_loss: 0.0038 - reg_l2_loss: 0.0962 - loss: 0.9872 - learning_rate: 0.0096 - gradient_norm: 2.0305 - val_det_loss: 1.2137 - val_cls_loss: 1.1514 - val_box_loss: 0.0012 - val_reg_l2_loss: 0.0962 - val_loss: 1.3099\n",
      "Epoch 6/15\n",
      "58/58 [==============================] - 626s 11s/step - det_loss: 0.7931 - cls_loss: 0.6223 - box_loss: 0.0034 - reg_l2_loss: 0.0962 - loss: 0.8893 - learning_rate: 0.0083 - gradient_norm: 2.1385 - val_det_loss: 1.4466 - val_cls_loss: 1.3821 - val_box_loss: 0.0013 - val_reg_l2_loss: 0.0962 - val_loss: 1.5428\n",
      "Epoch 7/15\n",
      "58/58 [==============================] - 626s 11s/step - det_loss: 0.7248 - cls_loss: 0.5549 - box_loss: 0.0034 - reg_l2_loss: 0.0963 - loss: 0.8210 - learning_rate: 0.0069 - gradient_norm: 2.2032 - val_det_loss: 1.4422 - val_cls_loss: 1.3490 - val_box_loss: 0.0019 - val_reg_l2_loss: 0.0963 - val_loss: 1.5385\n",
      "Epoch 8/15\n",
      "58/58 [==============================] - 595s 10s/step - det_loss: 0.6414 - cls_loss: 0.4909 - box_loss: 0.0030 - reg_l2_loss: 0.0963 - loss: 0.7377 - learning_rate: 0.0056 - gradient_norm: 2.2590 - val_det_loss: 1.3430 - val_cls_loss: 1.2762 - val_box_loss: 0.0013 - val_reg_l2_loss: 0.0963 - val_loss: 1.4393\n",
      "Epoch 9/15\n",
      "58/58 [==============================] - 581s 10s/step - det_loss: 0.6300 - cls_loss: 0.4765 - box_loss: 0.0031 - reg_l2_loss: 0.0963 - loss: 0.7263 - learning_rate: 0.0042 - gradient_norm: 2.2164 - val_det_loss: 1.2723 - val_cls_loss: 1.2092 - val_box_loss: 0.0013 - val_reg_l2_loss: 0.0963 - val_loss: 1.3686\n",
      "Epoch 10/15\n",
      "58/58 [==============================] - 638s 11s/step - det_loss: 0.6000 - cls_loss: 0.4488 - box_loss: 0.0030 - reg_l2_loss: 0.0963 - loss: 0.6962 - learning_rate: 0.0029 - gradient_norm: 2.1764 - val_det_loss: 1.3013 - val_cls_loss: 1.2334 - val_box_loss: 0.0014 - val_reg_l2_loss: 0.0963 - val_loss: 1.3975\n",
      "Epoch 11/15\n",
      "58/58 [==============================] - 1707s 30s/step - det_loss: 0.5480 - cls_loss: 0.4111 - box_loss: 0.0027 - reg_l2_loss: 0.0963 - loss: 0.6443 - learning_rate: 0.0018 - gradient_norm: 2.0531 - val_det_loss: 1.3805 - val_cls_loss: 1.3129 - val_box_loss: 0.0014 - val_reg_l2_loss: 0.0963 - val_loss: 1.4768\n",
      "Epoch 12/15\n",
      "58/58 [==============================] - 614s 11s/step - det_loss: 0.5546 - cls_loss: 0.4139 - box_loss: 0.0028 - reg_l2_loss: 0.0963 - loss: 0.6509 - learning_rate: 9.6963e-04 - gradient_norm: 2.2517 - val_det_loss: 1.3403 - val_cls_loss: 1.2786 - val_box_loss: 0.0012 - val_reg_l2_loss: 0.0963 - val_loss: 1.4366\n",
      "Epoch 13/15\n",
      "58/58 [==============================] - 629s 11s/step - det_loss: 0.5290 - cls_loss: 0.3927 - box_loss: 0.0027 - reg_l2_loss: 0.0963 - loss: 0.6252 - learning_rate: 3.6362e-04 - gradient_norm: 2.0334 - val_det_loss: 1.3534 - val_cls_loss: 1.2980 - val_box_loss: 0.0011 - val_reg_l2_loss: 0.0963 - val_loss: 1.4496\n",
      "Epoch 14/15\n",
      "58/58 [==============================] - 622s 11s/step - det_loss: 0.5464 - cls_loss: 0.4025 - box_loss: 0.0029 - reg_l2_loss: 0.0963 - loss: 0.6426 - learning_rate: 5.2771e-05 - gradient_norm: 2.0077 - val_det_loss: 1.3599 - val_cls_loss: 1.3037 - val_box_loss: 0.0011 - val_reg_l2_loss: 0.0963 - val_loss: 1.4562\n",
      "Epoch 15/15\n",
      "58/58 [==============================] - 688s 12s/step - det_loss: 0.5799 - cls_loss: 0.4270 - box_loss: 0.0031 - reg_l2_loss: 0.0963 - loss: 0.6762 - learning_rate: 5.2680e-05 - gradient_norm: 2.1757 - val_det_loss: 1.3662 - val_cls_loss: 1.3100 - val_box_loss: 0.0011 - val_reg_l2_loss: 0.0963 - val_loss: 1.4624\n"
     ]
    }
   ],
   "source": [
    "model = object_detector.create(train_data, model_spec=spec, batch_size=10, epochs= 15, train_whole_model=True, validation_data=validation_data)"
   ]
  },
  {
   "cell_type": "code",
   "execution_count": 8,
   "metadata": {},
   "outputs": [
    {
     "name": "stdout",
     "output_type": "stream",
     "text": [
      "5/5 [==============================] - 136s 18s/step\n",
      "\n"
     ]
    },
    {
     "data": {
      "text/plain": [
       "{'AP': 0.24849428,\n",
       " 'AP50': 0.38133562,\n",
       " 'AP75': 0.29663485,\n",
       " 'APs': -1.0,\n",
       " 'APm': -1.0,\n",
       " 'APl': 0.2484944,\n",
       " 'ARmax1': 0.1856648,\n",
       " 'ARmax10': 0.4470966,\n",
       " 'ARmax100': 0.5804091,\n",
       " 'ARs': -1.0,\n",
       " 'ARm': -1.0,\n",
       " 'ARl': 0.5804091,\n",
       " 'AP_/class': -1.0,\n",
       " 'AP_/closebracket': 0.44759366,\n",
       " 'AP_/div': 0.3703583,\n",
       " 'AP_/equal': 0.2650844,\n",
       " 'AP_/lessthan': 0.4629489,\n",
       " 'AP_/lessthan-equal': 0.2346981,\n",
       " 'AP_/min': 0.15054086,\n",
       " 'AP_/morethan': 0.4426417,\n",
       " 'AP_/morethan-equal': 0.37997106,\n",
       " 'AP_/multi': 0.001244727,\n",
       " 'AP_/num0': 0.0005778065,\n",
       " 'AP_/num1': 0.24546993,\n",
       " 'AP_/num2': 0.17201804,\n",
       " 'AP_/num3': 0.24227212,\n",
       " 'AP_/num4': 0.25445098,\n",
       " 'AP_/num5': 0.1305836,\n",
       " 'AP_/num6': 0.2831301,\n",
       " 'AP_/num7': 0.31261277,\n",
       " 'AP_/num8': 0.2009699,\n",
       " 'AP_/num9': 0.12248468,\n",
       " 'AP_/openbracket': 0.49385098,\n",
       " 'AP_/sum': 0.0048772856}"
      ]
     },
     "execution_count": 8,
     "metadata": {},
     "output_type": "execute_result"
    }
   ],
   "source": [
    "model.evaluate(test_data)"
   ]
  },
  {
   "cell_type": "code",
   "execution_count": 9,
   "metadata": {},
   "outputs": [],
   "source": [
    "model.export(export_dir='.')"
   ]
  },
  {
   "cell_type": "code",
   "execution_count": 10,
   "metadata": {},
   "outputs": [
    {
     "name": "stdout",
     "output_type": "stream",
     "text": [
      "303/303 [==============================] - 9368s 31s/step\n",
      "\n"
     ]
    },
    {
     "data": {
      "text/plain": [
       "{'AP': 0.2084177,\n",
       " 'AP50': 0.32055467,\n",
       " 'AP75': 0.2471354,\n",
       " 'APs': -1.0,\n",
       " 'APm': -1.0,\n",
       " 'APl': 0.2084177,\n",
       " 'ARmax1': 0.13683283,\n",
       " 'ARmax10': 0.32535073,\n",
       " 'ARmax100': 0.4195182,\n",
       " 'ARs': -1.0,\n",
       " 'ARm': -1.0,\n",
       " 'ARl': 0.4195182,\n",
       " 'AP_/class': -1.0,\n",
       " 'AP_/closebracket': 0.4385617,\n",
       " 'AP_/div': 0.40579337,\n",
       " 'AP_/equal': 0.25389382,\n",
       " 'AP_/lessthan': 0.46269354,\n",
       " 'AP_/lessthan-equal': 0.23339336,\n",
       " 'AP_/min': 0.14595152,\n",
       " 'AP_/morethan': 0.45942461,\n",
       " 'AP_/morethan-equal': 0.17421229,\n",
       " 'AP_/multi': 0.0009842055,\n",
       " 'AP_/num0': 5.50055e-05,\n",
       " 'AP_/num1': 0.235533,\n",
       " 'AP_/num2': 0.20197064,\n",
       " 'AP_/num3': 0.17246589,\n",
       " 'AP_/num4': 0.17173456,\n",
       " 'AP_/num5': 0.11492603,\n",
       " 'AP_/num6': 0.23586471,\n",
       " 'AP_/num7': 0.27849418,\n",
       " 'AP_/num8': 0.19744527,\n",
       " 'AP_/num9': 0.103003226,\n",
       " 'AP_/openbracket': 0.089108914,\n",
       " 'AP_/sum': 0.0012617519}"
      ]
     },
     "execution_count": 10,
     "metadata": {},
     "output_type": "execute_result"
    }
   ],
   "source": [
    "model.evaluate_tflite('model.tflite', test_data)"
   ]
  },
  {
   "cell_type": "code",
   "execution_count": 11,
   "metadata": {},
   "outputs": [],
   "source": [
    "#@title Load the trained TFLite model and define some visualization functions\n",
    "\n",
    "import cv2\n",
    "\n",
    "from PIL import Image\n",
    "\n",
    "model_path = 'model.tflite'\n",
    "\n",
    "# Load the labels into a list\n",
    "classes = ['num0','num1','num2','num3','num4','num5','num6','num7','num8','num9','sum','min','div','multi','equal','openbracket','closebracket',\n",
    "'morethan','lessthan','morethan-equal','lessthan-equal'] * model.model_spec.config.num_classes\n",
    "\n",
    "label_map = model.model_spec.config.label_map\n",
    "for label_id, label_name in label_map.as_dict().items():\n",
    "  classes[label_id-1] = label_name\n",
    "\n",
    "# Define a list of colors for visualization\n",
    "COLORS = np.random.randint(0, 255, size=(len(classes), 3), dtype=np.uint8)\n",
    "\n",
    "def preprocess_image(image_path, input_size):\n",
    "  \"\"\"Preprocess the input image to feed to the TFLite model\"\"\"\n",
    "  img = tf.io.read_file(image_path)\n",
    "  img = tf.io.decode_image(img, channels=3)\n",
    "  img = tf.image.convert_image_dtype(img, tf.uint8)\n",
    "  original_image = img\n",
    "  resized_img = tf.image.resize(img, input_size)\n",
    "  resized_img = resized_img[tf.newaxis, :]\n",
    "  resized_img = tf.cast(resized_img, dtype=tf.uint8)\n",
    "  return resized_img, original_image\n",
    "\n",
    "\n",
    "def detect_objects(interpreter, image, threshold):\n",
    "  \"\"\"Returns a list of detection results, each a dictionary of object info.\"\"\"\n",
    "\n",
    "  signature_fn = interpreter.get_signature_runner()\n",
    "\n",
    "  # Feed the input image to the model\n",
    "  output = signature_fn(images=image)\n",
    "\n",
    "  # Get all outputs from the model\n",
    "  count = int(np.squeeze(output['output_0']))\n",
    "  scores = np.squeeze(output['output_1'])\n",
    "  classes = np.squeeze(output['output_2'])\n",
    "  boxes = np.squeeze(output['output_3'])\n",
    "\n",
    "  results = []\n",
    "  for i in range(count):\n",
    "    if scores[i] >= threshold:\n",
    "      result = {\n",
    "        'bounding_box': boxes[i],\n",
    "        'class_id': classes[i],\n",
    "        'score': scores[i]\n",
    "      }\n",
    "      results.append(result)\n",
    "  return results\n",
    "\n",
    "\n",
    "def run_odt_and_draw_results(image_path, interpreter, threshold=0.5):\n",
    "  \"\"\"Run object detection on the input image and draw the detection results\"\"\"\n",
    "  # Load the input shape required by the model\n",
    "  _, input_height, input_width, _ = interpreter.get_input_details()[0]['shape']\n",
    "\n",
    "  # Load the input image and preprocess it\n",
    "  preprocessed_image, original_image = preprocess_image(\n",
    "      image_path,\n",
    "      (input_height, input_width)\n",
    "    )\n",
    "\n",
    "  # Run object detection on the input image\n",
    "  results = detect_objects(interpreter, preprocessed_image, threshold=threshold)\n",
    "\n",
    "  # Plot the detection results on the input image\n",
    "  original_image_np = original_image.numpy().astype(np.uint8)\n",
    "  for obj in results:\n",
    "    # Convert the object bounding box from relative coordinates to absolute\n",
    "    # coordinates based on the original image resolution\n",
    "    ymin, xmin, ymax, xmax = obj['bounding_box']\n",
    "    xmin = int(xmin * original_image_np.shape[1])\n",
    "    xmax = int(xmax * original_image_np.shape[1])\n",
    "    ymin = int(ymin * original_image_np.shape[0])\n",
    "    ymax = int(ymax * original_image_np.shape[0])\n",
    "\n",
    "    # Find the class index of the current object\n",
    "    class_id = int(obj['class_id'])\n",
    "\n",
    "    # Draw the bounding box and label on the image\n",
    "    color = [int(c) for c in COLORS[class_id]]\n",
    "    cv2.rectangle(original_image_np, (xmin, ymin), (xmax, ymax), color, 2)\n",
    "    # Make adjustments to make the label visible for all objects\n",
    "    y = ymin - 15 if ymin - 15 > 15 else ymin + 15\n",
    "    label = \"{}: {:.0f}%\".format(classes[class_id], obj['score'] * 100)\n",
    "    cv2.putText(original_image_np, label, (xmin, y),\n",
    "        cv2.FONT_HERSHEY_SIMPLEX, 0.5, color, 2)\n",
    "\n",
    "  # Return the final image\n",
    "  original_uint8 = original_image_np.astype(np.uint8)\n",
    "  return original_uint8"
   ]
  },
  {
   "cell_type": "code",
   "execution_count": 25,
   "metadata": {},
   "outputs": [
    {
     "data": {
      "image/png": "[encoded data removed]",
      "text/plain": [
       "<PIL.Image.Image image mode=RGB size=259x194 at 0x246596A6280>"
      ]
     },
     "execution_count": 25,
     "metadata": {},
     "output_type": "execute_result"
    }
   ],
   "source": [
    "#@title Run object detection and show the detection results\n",
    "\n",
    "# INPUT_IMAGE_URL = \"test.jpeg\" #@param {type:\"string\"}\n",
    "DETECTION_THRESHOLD = 0.2 #@param {type:\"number\"}\n",
    "\n",
    "TEMP_FILE = 'test/test10.jpg'\n",
    "\n",
    "# !wget -q -O $TEMP_FILE $INPUT_IMAGE_URL\n",
    "im = Image.open(TEMP_FILE)\n",
    "im.thumbnail((512, 512), Image.ANTIALIAS)\n",
    "im.save(TEMP_FILE, 'PNG')\n",
    "\n",
    "# Load the TFLite model\n",
    "interpreter = tf.lite.Interpreter(model_path=model_path)\n",
    "interpreter.allocate_tensors()\n",
    "\n",
    "# Run inference and draw detection result on the local copy of the original file\n",
    "detection_result_image = run_odt_and_draw_results(\n",
    "    TEMP_FILE,\n",
    "    interpreter,\n",
    "    threshold=DETECTION_THRESHOLD\n",
    ")\n",
    "\n",
    "# Show the detection result\n",
    "Image.fromarray(detection_result_image)"
   ]
  }
 ],
 "metadata": {
  "interpreter": {
   "hash": "3ef27c7788ea25bc6e7e0841db75454038c396a8a233e22f834de19fc8c0f40a"
  },
  "kernelspec": {
   "display_name": "Python 3.8.8 64-bit ('base': conda)",
   "language": "python",
   "name": "python3"
  },
  "language_info": {
   "codemirror_mode": {
    "name": "ipython",
    "version": 3
   },
   "file_extension": ".py",
   "mimetype": "text/x-python",
   "name": "python",
   "nbconvert_exporter": "python",
   "pygments_lexer": "ipython3",
   "version": "3.8.8"
  },
  "orig_nbformat": 4
 },
 "nbformat": 4,
 "nbformat_minor": 2
}
